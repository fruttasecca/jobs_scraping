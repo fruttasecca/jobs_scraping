{
 "cells": [
  {
   "cell_type": "code",
   "execution_count": 1,
   "metadata": {},
   "outputs": [],
   "source": [
    "import numpy as np\n",
    "from cr5 import Cr5_Model\n",
    "from scipy.spatial import distance\n",
    "from collections import Counter\n",
    "\n",
    "model = Cr5_Model('model_28_txt/','joint_28') # path_to_pretrained_model, model_prefix\n",
    "model.load_langs(['en', 'it']) # list_of_languages"
   ]
  },
  {
   "cell_type": "code",
   "execution_count": 2,
   "metadata": {},
   "outputs": [
    {
     "data": {
      "text/plain": [
       "(['Questo', 'è', 'un', 'paesaggio', 'bello'],\n",
       " [['The', 'dog', 'is', 'chubby'],\n",
       "  ['This', 'is', 'a', 'hot', 'summer'],\n",
       "  ['This', 'is', 'a', 'beautiful', 'landscape']])"
      ]
     },
     "execution_count": 2,
     "metadata": {},
     "output_type": "execute_result"
    }
   ],
   "source": [
    "text_it = \"Questo è un paesaggio bello\"\n",
    "text_en = ['The dog is chubby', 'This is a hot summer', 'This is a beautiful landscape']\n",
    "\n",
    "tokens_it = model.tokenize(text_it)\n",
    "tokens_en = [model.tokenize(span) for span in text_en]\n",
    "\n",
    "tokens_it, tokens_en"
   ]
  },
  {
   "cell_type": "code",
   "execution_count": 3,
   "metadata": {},
   "outputs": [
    {
     "data": {
      "text/plain": [
       "((1, 300), (3, 300))"
      ]
     },
     "execution_count": 3,
     "metadata": {},
     "output_type": "execute_result"
    }
   ],
   "source": [
    "it_doc_emb = model.get_document_embedding(tokens_it, 'it')[None, :]\n",
    "en_doc_emb = np.array([model.get_document_embedding(tokens, 'en') for tokens in tokens_en])\n",
    "\n",
    "it_doc_emb.shape, en_doc_emb.shape"
   ]
  },
  {
   "cell_type": "code",
   "execution_count": 4,
   "metadata": {},
   "outputs": [
    {
     "name": "stdout",
     "output_type": "stream",
     "text": [
      "This is a beautiful landscape\n",
      "This is a hot summer\n",
      "The dog is chubby\n"
     ]
    }
   ],
   "source": [
    "distance_matrix = distance.cdist(it_doc_emb, en_doc_emb, metric = 'cosine')\n",
    "rankings = np.argsort(distance_matrix)\n",
    "\n",
    "for span in np.array(text_en)[rankings[0]]:\n",
    "    print(span)"
   ]
  }
 ],
 "metadata": {
  "kernelspec": {
   "display_name": "Python 3",
   "language": "python",
   "name": "python3"
  },
  "language_info": {
   "codemirror_mode": {
    "name": "ipython",
    "version": 3
   },
   "file_extension": ".py",
   "mimetype": "text/x-python",
   "name": "python",
   "nbconvert_exporter": "python",
   "pygments_lexer": "ipython3",
   "version": "3.7.3"
  }
 },
 "nbformat": 4,
 "nbformat_minor": 2
}
