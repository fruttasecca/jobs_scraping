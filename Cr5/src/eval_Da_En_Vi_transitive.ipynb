{
 "cells": [
  {
   "cell_type": "code",
   "execution_count": 1,
   "metadata": {
    "collapsed": false
   },
   "outputs": [
    {
     "name": "stdout",
     "output_type": "stream",
     "text": [
      "Eigenvalue decomposition tolerance\n",
      "[1.0]\n",
      "CG tolerance\n",
      "[2.0]\n",
      "Dimensions\n",
      "['300']\n",
      "Regularisation parameter\n",
      "[1.33]\n"
     ]
    },
    {
     "name": "stderr",
     "output_type": "stream",
     "text": [
      "Impossible to import Faiss-GPU. Switching to FAISS-CPU, this will be slower.\n",
      "\n"
     ]
    }
   ],
   "source": [
    "import utils\n",
    "import evaluator\n",
    "import pickle\n",
    "import numpy as np\n",
    "import matplotlib.pyplot as plt\n",
    "import pandas as pd\n",
    "\n",
    "pd.set_option('display.max_colwidth', -1)\n",
    "%matplotlib inline\n",
    "\n",
    "experiment_id = 'da_en_vi_no_int_largest_range_200000_short_casefolded' \n",
    "lang_codes_to_evaluate = ['da', 'vi']\n",
    "lang_pair = ['da', 'vi']\n",
    "\n",
    "diff_eigs, diff_cg, diff_dims, diff_lambda = utils.print_different_param_vals(experiment_id)"
   ]
  },
  {
   "cell_type": "code",
   "execution_count": 2,
   "metadata": {
    "collapsed": true
   },
   "outputs": [],
   "source": [
    "def evaluate_experiment(experiment_id, lang_codes_to_evaluate, vocabulary_size, target_concepts_suffix, axes, _dir = 'avg', dimensions = 300, validation_set_file_name = None):\n",
    "    for i, test_set_flag in enumerate([False, True]):\n",
    "        matched_runs = utils.filter_runs_on_field(experiment_id, 'dimensions', dimensions, verbose = False)\n",
    "        experiment_run_ids = [run['id'] for run in matched_runs]\n",
    "\n",
    "        assert(len(experiment_run_ids) != 0)\n",
    "\n",
    "        mr_eval_obj = evaluator.Multirun_evaluator(experiment_run_ids, lang_codes_to_evaluate, vocabulary_size = 200000, test_set_flag = test_set_flag, target_concepts_suffix = target_concepts_suffix, validation_set_file_name = validation_set_file_name)\n",
    "\n",
    "        ax = axes[i]\n",
    "\n",
    "        if test_set_flag:\n",
    "            title = 'Test performance'\n",
    "        else:\n",
    "            title = 'Validation performance'\n",
    "\n",
    "        ax.set_xlabel('Regularization parameter')\n",
    "        ax.set_ylabel('Harmonic mean of ranks')\n",
    "        mr_eval_obj.plot_performance(lang_codes_to_evaluate, _dir, title, ax)\n",
    "        \n",
    "def evaluate_experiment_diff_lang_pairs(lang_pairs_to_evaluate, experiment_id, vocabulary_size, target_concepts_suffix, _dir = 'avg', dimensions = 300, validation_set_file_name = None):\n",
    "    for lang_pair in lang_pairs_to_evaluate:\n",
    "        r = 1\n",
    "        c = 2\n",
    "        fig, axes = plt.subplots(1, 2, figsize=(20,7), sharey=True)\n",
    "        fig.suptitle(\"Language pair {}, Experiment {}, Target concepts {} - {}\".format('_'.join(lang_pair), experiment_id, target_concepts_suffix, _dir))\n",
    "        \n",
    "        evaluate_experiment(experiment_id, lang_pair, vocabulary_size, target_concepts_suffix, axes, _dir = 'avg', dimensions = 300, validation_set_file_name = None)"
   ]
  },
  {
   "cell_type": "markdown",
   "metadata": {},
   "source": [
    "# Full experiment results"
   ]
  },
  {
   "cell_type": "code",
   "execution_count": null,
   "metadata": {
    "collapsed": true
   },
   "outputs": [],
   "source": [
    "params = {\n",
    "    \"lang_pairs_to_evaluate\" : [['en', 'da'], ['da', 'vi']],\n",
    "    \"experiment_id\" : experiment_id,\n",
    "    \"vocabulary_size\" : 200000,\n",
    "    \"target_concepts_suffix\" : \"no_int_50_1000\",\n",
    "    \"_dir\" : 'avg',\n",
    "    \"dimensions\" : 300,\n",
    "    \"validation_set_file_name\" : None\n",
    "    }\n",
    "\n",
    "evaluate_experiment_diff_lang_pairs(**params)"
   ]
  },
  {
   "cell_type": "markdown",
   "metadata": {},
   "source": [
    "## Execution time analysis"
   ]
  },
  {
   "cell_type": "code",
   "execution_count": 3,
   "metadata": {
    "collapsed": false
   },
   "outputs": [
    {
     "data": {
      "image/png": "[encoded data removed]",
      "text/plain": [
       "<Figure size 504x360 with 1 Axes>"
      ]
     },
     "metadata": {
      "needs_background": "light"
     },
     "output_type": "display_data"
    }
   ],
   "source": [
    "utils.plot_processing_time(experiment_id)"
   ]
  },
  {
   "cell_type": "markdown",
   "metadata": {},
   "source": [
    "# Best run results"
   ]
  },
  {
   "cell_type": "markdown",
   "metadata": {},
   "source": [
    "## Retireve experiment run using the experiment id and training parameters"
   ]
  },
  {
   "cell_type": "code",
   "execution_count": 4,
   "metadata": {
    "collapsed": false,
    "scrolled": true
   },
   "outputs": [
    {
     "name": "stdout",
     "output_type": "stream",
     "text": [
      "('da_en_vi_no_int_largest_range_200000_short_casefolded_3', ['da_en_vi_no_int_largest_range_200000_short_casefolded_3 lambda 1.33 cg_tol 2.00 2.00 eigs_tol 1.00 1.00 dims 300'])\n",
      "Validation dataset file name - extended da_en_it_vi_200000_lt_100_ut_700_ml_2_size_2000_inter_false_lang_codes_da_en_it_vi_tsf_true_suffix_no_int_50_1000\n",
      "Validation dataset full name da_en_it_vi_200000_lt_100_ut_700_ml_2_size_2000_inter_false_lang_codes_da_en_it_vi_tsf_true_suffix_no_int_50_1000_da_en_vi_200000_through_en_lt_50_ut_1000_ml_2_da_en_it_vi_200000_lt_100_ut_700_ml_2_size_2000_inter_false_lang_codes_da_en_it_vi_casefolded\n",
      "Final validation dataset file already generated. Exists as:  da_en_it_vi_200000_lt_100_ut_700_ml_2_size_2000_inter_false_lang_codes_da_en_it_vi_tsf_true_suffix_no_int_50_1000_da_en_vi_200000_through_en_lt_50_ut_1000_ml_2_da_en_it_vi_200000_lt_100_ut_700_ml_2_size_2000_inter_false_lang_codes_da_en_it_vi_casefolded\n",
      "Running get_test_concepts_from_validation_set\n"
     ]
    }
   ],
   "source": [
    "experiment_id = 'da_en_vi_no_int_largest_range_200000_short_casefolded'\n",
    "dimensions = 300\n",
    "_lambda = 1.33 # regularization_parameter\n",
    "cg_tol_1 = cg_tol_2 = 2 # 10 ** (-2)\n",
    "eigs_tol_1 = eigs_tol_2 = 1 # 10 ** (0.3)\n",
    "lang_codes_to_evaluate = ['da', 'vi', 'en']\n",
    "target_concepts_suffix = \"no_int_50_1000\"\n",
    "vocabulary_size = 200000\n",
    "\n",
    "# The log file, that logs all the runs for a given experiment is named same as the experiment\n",
    "# Finds the experiment id from the runs logger, and returns the matched line if return_line flag is set to true\n",
    "experiment_run_id = utils.get_run_identifier(experiment_id, dimensions, _lambda, cg_tol_1, eigs_tol_1, cg_tol_2, eigs_tol_2, return_line = True)\n",
    "print(experiment_run_id)\n",
    "experiment_run_id = experiment_run_id[0]\n",
    "\n",
    "eval_obj = evaluator.Evaluator(experiment_run_id, lang_codes_to_evaluate, vocabulary_size=vocabulary_size, test_set_flag = True, target_concepts_suffix = target_concepts_suffix)\n"
   ]
  },
  {
   "cell_type": "markdown",
   "metadata": {},
   "source": [
    "## Important numbers"
   ]
  },
  {
   "cell_type": "code",
   "execution_count": 5,
   "metadata": {
    "collapsed": false
   },
   "outputs": [
    {
     "name": "stdout",
     "output_type": "stream",
     "text": [
      "*** Training phase ***\n",
      "# Training documents: {'da': 60471, 'en': 141888, 'vi': 79636}\n",
      "# Training sets vocabulary size: {'da': 154606, 'en': 200000, 'vi': 104182}\n",
      "\n",
      "*** Evaluation phase ***\n",
      "# Queries: {'en_vi': 1000, 'da_it': 1000, 'en_it': 1000, 'da_vi': 1000, 'it_vi': 1000, 'da_en': 1000}\n",
      "# Target documents: {'vi': 152304, 'en': 202852, 'da': 140314}\n",
      "# Evaluation datasets vocabulary size: {'vi': 104182, 'en': 193129, 'da': 154606}\n"
     ]
    }
   ],
   "source": [
    "eval_obj.print_important_numbers()"
   ]
  },
  {
   "cell_type": "markdown",
   "metadata": {},
   "source": [
    "## Precisions"
   ]
  },
  {
   "cell_type": "code",
   "execution_count": 9,
   "metadata": {
    "collapsed": false
   },
   "outputs": [
    {
     "name": "stdout",
     "output_type": "stream",
     "text": [
      "\n",
      "** Emb_type: learned, Metric: csls_knn_10 **\n",
      "\n",
      "Embeddings type:  learned\n"
     ]
    },
    {
     "data": {
      "text/html": [
       "<div>\n",
       "<style scoped>\n",
       "    .dataframe tbody tr th:only-of-type {\n",
       "        vertical-align: middle;\n",
       "    }\n",
       "\n",
       "    .dataframe tbody tr th {\n",
       "        vertical-align: top;\n",
       "    }\n",
       "\n",
       "    .dataframe thead th {\n",
       "        text-align: right;\n",
       "    }\n",
       "</style>\n",
       "<table border=\"1\" class=\"dataframe\">\n",
       "  <thead>\n",
       "    <tr style=\"text-align: right;\">\n",
       "      <th></th>\n",
       "      <th>P@1</th>\n",
       "      <th>P@5</th>\n",
       "      <th>P@10</th>\n",
       "    </tr>\n",
       "    <tr>\n",
       "      <th>pair</th>\n",
       "      <th></th>\n",
       "      <th></th>\n",
       "      <th></th>\n",
       "    </tr>\n",
       "  </thead>\n",
       "  <tbody>\n",
       "    <tr>\n",
       "      <th>da_en</th>\n",
       "      <td>68.9</td>\n",
       "      <td>81.2</td>\n",
       "      <td>85.5</td>\n",
       "    </tr>\n",
       "    <tr>\n",
       "      <th>en_da</th>\n",
       "      <td>54.7</td>\n",
       "      <td>74.3</td>\n",
       "      <td>80.9</td>\n",
       "    </tr>\n",
       "    <tr>\n",
       "      <th>da_vi</th>\n",
       "      <td>29.6</td>\n",
       "      <td>49.4</td>\n",
       "      <td>59.2</td>\n",
       "    </tr>\n",
       "    <tr>\n",
       "      <th>vi_da</th>\n",
       "      <td>28.6</td>\n",
       "      <td>49.6</td>\n",
       "      <td>59.3</td>\n",
       "    </tr>\n",
       "    <tr>\n",
       "      <th>en_vi</th>\n",
       "      <td>54.4</td>\n",
       "      <td>73.7</td>\n",
       "      <td>79.5</td>\n",
       "    </tr>\n",
       "    <tr>\n",
       "      <th>vi_en</th>\n",
       "      <td>75.4</td>\n",
       "      <td>87.1</td>\n",
       "      <td>90.3</td>\n",
       "    </tr>\n",
       "  </tbody>\n",
       "</table>\n",
       "</div>"
      ],
      "text/plain": [
       "        P@1   P@5  P@10\n",
       "pair                   \n",
       "da_en  68.9  81.2  85.5\n",
       "en_da  54.7  74.3  80.9\n",
       "da_vi  29.6  49.4  59.2\n",
       "vi_da  28.6  49.6  59.3\n",
       "en_vi  54.4  73.7  79.5\n",
       "vi_en  75.4  87.1  90.3"
      ]
     },
     "metadata": {},
     "output_type": "display_data"
    },
    {
     "name": "stdout",
     "output_type": "stream",
     "text": [
      "\n",
      "** Emb_type: learned, Metric: cosine **\n",
      "\n",
      "Embeddings type:  learned\n"
     ]
    },
    {
     "data": {
      "text/html": [
       "<div>\n",
       "<style scoped>\n",
       "    .dataframe tbody tr th:only-of-type {\n",
       "        vertical-align: middle;\n",
       "    }\n",
       "\n",
       "    .dataframe tbody tr th {\n",
       "        vertical-align: top;\n",
       "    }\n",
       "\n",
       "    .dataframe thead th {\n",
       "        text-align: right;\n",
       "    }\n",
       "</style>\n",
       "<table border=\"1\" class=\"dataframe\">\n",
       "  <thead>\n",
       "    <tr style=\"text-align: right;\">\n",
       "      <th></th>\n",
       "      <th>P@1</th>\n",
       "      <th>P@5</th>\n",
       "      <th>P@10</th>\n",
       "    </tr>\n",
       "    <tr>\n",
       "      <th>pair</th>\n",
       "      <th></th>\n",
       "      <th></th>\n",
       "      <th></th>\n",
       "    </tr>\n",
       "  </thead>\n",
       "  <tbody>\n",
       "    <tr>\n",
       "      <th>da_en</th>\n",
       "      <td>63.8</td>\n",
       "      <td>76.6</td>\n",
       "      <td>81.5</td>\n",
       "    </tr>\n",
       "    <tr>\n",
       "      <th>en_da</th>\n",
       "      <td>58.0</td>\n",
       "      <td>74.3</td>\n",
       "      <td>79.9</td>\n",
       "    </tr>\n",
       "    <tr>\n",
       "      <th>da_vi</th>\n",
       "      <td>22.5</td>\n",
       "      <td>40.4</td>\n",
       "      <td>47.6</td>\n",
       "    </tr>\n",
       "    <tr>\n",
       "      <th>vi_da</th>\n",
       "      <td>25.2</td>\n",
       "      <td>45.3</td>\n",
       "      <td>53.4</td>\n",
       "    </tr>\n",
       "    <tr>\n",
       "      <th>en_vi</th>\n",
       "      <td>54.9</td>\n",
       "      <td>72.2</td>\n",
       "      <td>77.8</td>\n",
       "    </tr>\n",
       "    <tr>\n",
       "      <th>vi_en</th>\n",
       "      <td>71.6</td>\n",
       "      <td>84.1</td>\n",
       "      <td>87.2</td>\n",
       "    </tr>\n",
       "  </tbody>\n",
       "</table>\n",
       "</div>"
      ],
      "text/plain": [
       "        P@1   P@5  P@10\n",
       "pair                   \n",
       "da_en  63.8  76.6  81.5\n",
       "en_da  58.0  74.3  79.9\n",
       "da_vi  22.5  40.4  47.6\n",
       "vi_da  25.2  45.3  53.4\n",
       "en_vi  54.9  72.2  77.8\n",
       "vi_en  71.6  84.1  87.2"
      ]
     },
     "metadata": {},
     "output_type": "display_data"
    },
    {
     "name": "stdout",
     "output_type": "stream",
     "text": [
      "\n",
      "** Emb_type: baseline, Metric: csls_knn_10 **\n",
      "\n",
      "Embeddings type:  baseline\n"
     ]
    },
    {
     "data": {
      "text/html": [
       "<div>\n",
       "<style scoped>\n",
       "    .dataframe tbody tr th:only-of-type {\n",
       "        vertical-align: middle;\n",
       "    }\n",
       "\n",
       "    .dataframe tbody tr th {\n",
       "        vertical-align: top;\n",
       "    }\n",
       "\n",
       "    .dataframe thead th {\n",
       "        text-align: right;\n",
       "    }\n",
       "</style>\n",
       "<table border=\"1\" class=\"dataframe\">\n",
       "  <thead>\n",
       "    <tr style=\"text-align: right;\">\n",
       "      <th></th>\n",
       "      <th>P@1</th>\n",
       "      <th>P@5</th>\n",
       "      <th>P@10</th>\n",
       "    </tr>\n",
       "    <tr>\n",
       "      <th>pair</th>\n",
       "      <th></th>\n",
       "      <th></th>\n",
       "      <th></th>\n",
       "    </tr>\n",
       "  </thead>\n",
       "  <tbody>\n",
       "    <tr>\n",
       "      <th>da_en</th>\n",
       "      <td>43.0</td>\n",
       "      <td>61.1</td>\n",
       "      <td>68.1</td>\n",
       "    </tr>\n",
       "    <tr>\n",
       "      <th>en_da</th>\n",
       "      <td>32.1</td>\n",
       "      <td>50.2</td>\n",
       "      <td>57.7</td>\n",
       "    </tr>\n",
       "    <tr>\n",
       "      <th>da_vi</th>\n",
       "      <td>6.1</td>\n",
       "      <td>15.8</td>\n",
       "      <td>21.8</td>\n",
       "    </tr>\n",
       "    <tr>\n",
       "      <th>vi_da</th>\n",
       "      <td>10.9</td>\n",
       "      <td>21.8</td>\n",
       "      <td>28.5</td>\n",
       "    </tr>\n",
       "    <tr>\n",
       "      <th>en_vi</th>\n",
       "      <td>12.2</td>\n",
       "      <td>26.2</td>\n",
       "      <td>32.5</td>\n",
       "    </tr>\n",
       "    <tr>\n",
       "      <th>vi_en</th>\n",
       "      <td>25.4</td>\n",
       "      <td>42.4</td>\n",
       "      <td>49.9</td>\n",
       "    </tr>\n",
       "  </tbody>\n",
       "</table>\n",
       "</div>"
      ],
      "text/plain": [
       "        P@1   P@5  P@10\n",
       "pair                   \n",
       "da_en  43.0  61.1  68.1\n",
       "en_da  32.1  50.2  57.7\n",
       "da_vi  6.1   15.8  21.8\n",
       "vi_da  10.9  21.8  28.5\n",
       "en_vi  12.2  26.2  32.5\n",
       "vi_en  25.4  42.4  49.9"
      ]
     },
     "metadata": {},
     "output_type": "display_data"
    },
    {
     "name": "stdout",
     "output_type": "stream",
     "text": [
      "\n",
      "** Emb_type: baseline, Metric: cosine **\n",
      "\n",
      "Embeddings type:  baseline\n"
     ]
    },
    {
     "data": {
      "text/html": [
       "<div>\n",
       "<style scoped>\n",
       "    .dataframe tbody tr th:only-of-type {\n",
       "        vertical-align: middle;\n",
       "    }\n",
       "\n",
       "    .dataframe tbody tr th {\n",
       "        vertical-align: top;\n",
       "    }\n",
       "\n",
       "    .dataframe thead th {\n",
       "        text-align: right;\n",
       "    }\n",
       "</style>\n",
       "<table border=\"1\" class=\"dataframe\">\n",
       "  <thead>\n",
       "    <tr style=\"text-align: right;\">\n",
       "      <th></th>\n",
       "      <th>P@1</th>\n",
       "      <th>P@5</th>\n",
       "      <th>P@10</th>\n",
       "    </tr>\n",
       "    <tr>\n",
       "      <th>pair</th>\n",
       "      <th></th>\n",
       "      <th></th>\n",
       "      <th></th>\n",
       "    </tr>\n",
       "  </thead>\n",
       "  <tbody>\n",
       "    <tr>\n",
       "      <th>da_en</th>\n",
       "      <td>37.5</td>\n",
       "      <td>54.9</td>\n",
       "      <td>60.9</td>\n",
       "    </tr>\n",
       "    <tr>\n",
       "      <th>en_da</th>\n",
       "      <td>22.6</td>\n",
       "      <td>38.8</td>\n",
       "      <td>45.0</td>\n",
       "    </tr>\n",
       "    <tr>\n",
       "      <th>da_vi</th>\n",
       "      <td>3.8</td>\n",
       "      <td>10.6</td>\n",
       "      <td>13.9</td>\n",
       "    </tr>\n",
       "    <tr>\n",
       "      <th>vi_da</th>\n",
       "      <td>4.4</td>\n",
       "      <td>11.6</td>\n",
       "      <td>16.9</td>\n",
       "    </tr>\n",
       "    <tr>\n",
       "      <th>en_vi</th>\n",
       "      <td>7.7</td>\n",
       "      <td>16.4</td>\n",
       "      <td>20.6</td>\n",
       "    </tr>\n",
       "    <tr>\n",
       "      <th>vi_en</th>\n",
       "      <td>11.1</td>\n",
       "      <td>24.4</td>\n",
       "      <td>29.2</td>\n",
       "    </tr>\n",
       "  </tbody>\n",
       "</table>\n",
       "</div>"
      ],
      "text/plain": [
       "        P@1   P@5  P@10\n",
       "pair                   \n",
       "da_en  37.5  54.9  60.9\n",
       "en_da  22.6  38.8  45.0\n",
       "da_vi  3.8   10.6  13.9\n",
       "vi_da  4.4   11.6  16.9\n",
       "en_vi  7.7   16.4  20.6\n",
       "vi_en  11.1  24.4  29.2"
      ]
     },
     "metadata": {},
     "output_type": "display_data"
    }
   ],
   "source": [
    "dfs = {}\n",
    "for emb_type in ['learned', 'baseline']:\n",
    "    for metric in ['csls_knn_10', 'cosine']:\n",
    "        print()\n",
    "        s = '** Emb_type: {}, Metric: {} **'.format(emb_type, metric)\n",
    "        print(s)\n",
    "        print()\n",
    "        df = eval_obj.get_overall_precision(emb_type=emb_type, metric=metric)\n",
    "        dfs[s] = df\n",
    "        display(df)"
   ]
  },
  {
   "cell_type": "markdown",
   "metadata": {},
   "source": [
    "# Visualization "
   ]
  },
  {
   "cell_type": "code",
   "execution_count": 10,
   "metadata": {
    "collapsed": false
   },
   "outputs": [
    {
     "data": {
      "image/png": "[encoded data removed]",
      "text/plain": [
       "<Figure size 1440x504 with 2 Axes>"
      ]
     },
     "metadata": {
      "needs_background": "light"
     },
     "output_type": "display_data"
    }
   ],
   "source": [
    "eval_obj.plot_ranking_count_cdf(lang_pair, 'learned', x_logscale=True, metric_learned = 'csls_knn_10', metric_baseline = 'csls_knn_10', ll_x = 0.15, hl_x = 5.2, path_to_dump='no_int_cdf')"
   ]
  }
 ],
 "metadata": {
  "kernelspec": {
   "display_name": "torch-kernel",
   "language": "python",
   "name": "torch-kernel"
  },
  "language_info": {
   "codemirror_mode": {
    "name": "ipython",
    "version": 3
   },
   "file_extension": ".py",
   "mimetype": "text/x-python",
   "name": "python",
   "nbconvert_exporter": "python",
   "pygments_lexer": "ipython3",
   "version": "3.6.7"
  }
 },
 "nbformat": 4,
 "nbformat_minor": 2
}
