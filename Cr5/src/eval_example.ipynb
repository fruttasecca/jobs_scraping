{
 "cells": [
  {
   "cell_type": "code",
   "execution_count": 2,
   "metadata": {
    "scrolled": true
   },
   "outputs": [
    {
     "name": "stdout",
     "output_type": "stream",
     "text": [
      "Eigenvalue decomposition tolerance\n",
      "[1.0]\n",
      "CG tolerance\n",
      "[2.0]\n",
      "Dimensions\n",
      "['300']\n",
      "Regularisation parameter\n",
      "[6.0, 4.0, 2.5, 1.0, 0.5]\n"
     ]
    },
    {
     "name": "stderr",
     "output_type": "stream",
     "text": [
      "Impossible to import Faiss-GPU. Switching to FAISS-CPU, this will be slower.\n",
      "\n"
     ]
    }
   ],
   "source": [
    "import utils\n",
    "import evaluator\n",
    "import pickle\n",
    "import numpy as np\n",
    "import matplotlib.pyplot as plt\n",
    "import pandas as pd\n",
    "\n",
    "pd.set_option('display.max_colwidth', -1)\n",
    "pd.options.display.float_format = '{:,.2f}'.format\n",
    "%matplotlib inline\n",
    "\n",
    "experiment_id = 'en_it_largest_range_200000_short_casefolded' \n",
    "lang_codes_to_evaluate = ['en', 'it']\n",
    "lang_pair = ['en', 'it']\n",
    "\n",
    "diff_eigs, diff_cg, diff_dims, diff_lambda = utils.print_different_param_vals(experiment_id)"
   ]
  },
  {
   "cell_type": "markdown",
   "metadata": {},
   "source": [
    "# Full experiment results"
   ]
  },
  {
   "cell_type": "code",
   "execution_count": 2,
   "metadata": {},
   "outputs": [
    {
     "name": "stdout",
     "output_type": "stream",
     "text": [
      "Validation dataset file name - extended da_en_it_vi_200000_lt_100_ut_700_ml_2_size_2000_inter_false_tsf_false_suffix_no_int_50_1000\n",
      "Validation dataset full name da_en_it_vi_200000_lt_100_ut_700_ml_2_size_2000_inter_false_tsf_false_suffix_no_int_50_1000_en_it_200000_lt_50_ut_1000_ml_2_da_en_it_vi_200000_lt_100_ut_700_ml_2_size_2000_inter_false_casefolded\n",
      "Final validation dataset file already generated. Exists as:  da_en_it_vi_200000_lt_100_ut_700_ml_2_size_2000_inter_false_tsf_false_suffix_no_int_50_1000_en_it_200000_lt_50_ut_1000_ml_2_da_en_it_vi_200000_lt_100_ut_700_ml_2_size_2000_inter_false_casefolded\n",
      "Running get_val_concepts_from_validation_set\n",
      "Running get_test_concepts_from_validation_set\n",
      "Validation dataset file name - extended da_en_it_vi_200000_lt_100_ut_700_ml_2_size_2000_inter_false_tsf_false_suffix_no_int_50_1000\n",
      "Validation dataset full name da_en_it_vi_200000_lt_100_ut_700_ml_2_size_2000_inter_false_tsf_false_suffix_no_int_50_1000_en_it_200000_lt_50_ut_1000_ml_2_da_en_it_vi_200000_lt_100_ut_700_ml_2_size_2000_inter_false_casefolded\n",
      "Final validation dataset file already generated. Exists as:  da_en_it_vi_200000_lt_100_ut_700_ml_2_size_2000_inter_false_tsf_false_suffix_no_int_50_1000_en_it_200000_lt_50_ut_1000_ml_2_da_en_it_vi_200000_lt_100_ut_700_ml_2_size_2000_inter_false_casefolded\n",
      "Running get_val_concepts_from_validation_set\n",
      "Running get_test_concepts_from_validation_set\n",
      "Validation dataset file name - extended da_en_it_vi_200000_lt_100_ut_700_ml_2_size_2000_inter_false_tsf_false_suffix_no_int_50_1000\n",
      "Validation dataset full name da_en_it_vi_200000_lt_100_ut_700_ml_2_size_2000_inter_false_tsf_false_suffix_no_int_50_1000_en_it_200000_lt_50_ut_1000_ml_2_da_en_it_vi_200000_lt_100_ut_700_ml_2_size_2000_inter_false_casefolded\n",
      "Final validation dataset file already generated. Exists as:  da_en_it_vi_200000_lt_100_ut_700_ml_2_size_2000_inter_false_tsf_false_suffix_no_int_50_1000_en_it_200000_lt_50_ut_1000_ml_2_da_en_it_vi_200000_lt_100_ut_700_ml_2_size_2000_inter_false_casefolded\n",
      "Running get_val_concepts_from_validation_set\n",
      "Running get_test_concepts_from_validation_set\n",
      "Validation dataset file name - extended da_en_it_vi_200000_lt_100_ut_700_ml_2_size_2000_inter_false_tsf_false_suffix_no_int_50_1000\n",
      "Validation dataset full name da_en_it_vi_200000_lt_100_ut_700_ml_2_size_2000_inter_false_tsf_false_suffix_no_int_50_1000_en_it_200000_lt_50_ut_1000_ml_2_da_en_it_vi_200000_lt_100_ut_700_ml_2_size_2000_inter_false_casefolded\n",
      "Final validation dataset file already generated. Exists as:  da_en_it_vi_200000_lt_100_ut_700_ml_2_size_2000_inter_false_tsf_false_suffix_no_int_50_1000_en_it_200000_lt_50_ut_1000_ml_2_da_en_it_vi_200000_lt_100_ut_700_ml_2_size_2000_inter_false_casefolded\n",
      "Running get_val_concepts_from_validation_set\n",
      "Running get_test_concepts_from_validation_set\n",
      "Validation dataset file name - extended da_en_it_vi_200000_lt_100_ut_700_ml_2_size_2000_inter_false_tsf_false_suffix_no_int_50_1000\n",
      "Validation dataset full name da_en_it_vi_200000_lt_100_ut_700_ml_2_size_2000_inter_false_tsf_false_suffix_no_int_50_1000_en_it_200000_lt_50_ut_1000_ml_2_da_en_it_vi_200000_lt_100_ut_700_ml_2_size_2000_inter_false_casefolded\n",
      "Final validation dataset file already generated. Exists as:  da_en_it_vi_200000_lt_100_ut_700_ml_2_size_2000_inter_false_tsf_false_suffix_no_int_50_1000_en_it_200000_lt_50_ut_1000_ml_2_da_en_it_vi_200000_lt_100_ut_700_ml_2_size_2000_inter_false_casefolded\n",
      "Running get_val_concepts_from_validation_set\n",
      "Running get_test_concepts_from_validation_set\n",
      "Getting ranked concepts for  ['en', 'it']\n",
      "Generating doc embeddings for learned\n",
      "Reading embeddings\n",
      "197625 words in the intersection between training and evaluation in en\n",
      "199896 words in the intersection between training and evaluation in it\n",
      "Ranking with cosine\n",
      "Ranking with cosine\n",
      "Getting ranked concepts for  ['en', 'it']\n",
      "Generating doc embeddings for learned\n",
      "Reading embeddings\n",
      "197625 words in the intersection between training and evaluation in en\n",
      "199896 words in the intersection between training and evaluation in it\n",
      "Ranking with cosine\n",
      "Ranking with cosine\n",
      "Getting ranked concepts for  ['en', 'it']\n",
      "Generating doc embeddings for learned\n",
      "Reading embeddings\n",
      "197625 words in the intersection between training and evaluation in en\n",
      "199896 words in the intersection between training and evaluation in it\n",
      "Ranking with cosine\n",
      "Ranking with cosine\n",
      "Getting ranked concepts for  ['en', 'it']\n",
      "Generating doc embeddings for learned\n",
      "Reading embeddings\n",
      "197625 words in the intersection between training and evaluation in en\n",
      "199896 words in the intersection between training and evaluation in it\n",
      "Ranking with cosine\n",
      "Ranking with cosine\n",
      "Getting ranked concepts for  ['en', 'it']\n",
      "Generating doc embeddings for learned\n",
      "Reading embeddings\n",
      "197625 words in the intersection between training and evaluation in en\n",
      "199896 words in the intersection between training and evaluation in it\n",
      "Ranking with cosine\n",
      "Ranking with cosine\n",
      "Validation dataset file name - extended da_en_it_vi_200000_lt_100_ut_700_ml_2_size_2000_inter_false_tsf_true_suffix_no_int_50_1000\n",
      "Validation dataset full name da_en_it_vi_200000_lt_100_ut_700_ml_2_size_2000_inter_false_tsf_true_suffix_no_int_50_1000_en_it_200000_lt_50_ut_1000_ml_2_da_en_it_vi_200000_lt_100_ut_700_ml_2_size_2000_inter_false_casefolded\n",
      "Final validation dataset file already generated. Exists as:  da_en_it_vi_200000_lt_100_ut_700_ml_2_size_2000_inter_false_tsf_true_suffix_no_int_50_1000_en_it_200000_lt_50_ut_1000_ml_2_da_en_it_vi_200000_lt_100_ut_700_ml_2_size_2000_inter_false_casefolded\n",
      "Running get_test_concepts_from_validation_set\n",
      "Validation dataset file name - extended da_en_it_vi_200000_lt_100_ut_700_ml_2_size_2000_inter_false_tsf_true_suffix_no_int_50_1000\n",
      "Validation dataset full name da_en_it_vi_200000_lt_100_ut_700_ml_2_size_2000_inter_false_tsf_true_suffix_no_int_50_1000_en_it_200000_lt_50_ut_1000_ml_2_da_en_it_vi_200000_lt_100_ut_700_ml_2_size_2000_inter_false_casefolded\n",
      "Final validation dataset file already generated. Exists as:  da_en_it_vi_200000_lt_100_ut_700_ml_2_size_2000_inter_false_tsf_true_suffix_no_int_50_1000_en_it_200000_lt_50_ut_1000_ml_2_da_en_it_vi_200000_lt_100_ut_700_ml_2_size_2000_inter_false_casefolded\n",
      "Running get_test_concepts_from_validation_set\n",
      "Validation dataset file name - extended da_en_it_vi_200000_lt_100_ut_700_ml_2_size_2000_inter_false_tsf_true_suffix_no_int_50_1000\n",
      "Validation dataset full name da_en_it_vi_200000_lt_100_ut_700_ml_2_size_2000_inter_false_tsf_true_suffix_no_int_50_1000_en_it_200000_lt_50_ut_1000_ml_2_da_en_it_vi_200000_lt_100_ut_700_ml_2_size_2000_inter_false_casefolded\n",
      "Final validation dataset file already generated. Exists as:  da_en_it_vi_200000_lt_100_ut_700_ml_2_size_2000_inter_false_tsf_true_suffix_no_int_50_1000_en_it_200000_lt_50_ut_1000_ml_2_da_en_it_vi_200000_lt_100_ut_700_ml_2_size_2000_inter_false_casefolded\n",
      "Running get_test_concepts_from_validation_set\n",
      "Validation dataset file name - extended da_en_it_vi_200000_lt_100_ut_700_ml_2_size_2000_inter_false_tsf_true_suffix_no_int_50_1000\n",
      "Validation dataset full name da_en_it_vi_200000_lt_100_ut_700_ml_2_size_2000_inter_false_tsf_true_suffix_no_int_50_1000_en_it_200000_lt_50_ut_1000_ml_2_da_en_it_vi_200000_lt_100_ut_700_ml_2_size_2000_inter_false_casefolded\n",
      "Final validation dataset file already generated. Exists as:  da_en_it_vi_200000_lt_100_ut_700_ml_2_size_2000_inter_false_tsf_true_suffix_no_int_50_1000_en_it_200000_lt_50_ut_1000_ml_2_da_en_it_vi_200000_lt_100_ut_700_ml_2_size_2000_inter_false_casefolded\n",
      "Running get_test_concepts_from_validation_set\n",
      "Validation dataset file name - extended da_en_it_vi_200000_lt_100_ut_700_ml_2_size_2000_inter_false_tsf_true_suffix_no_int_50_1000\n",
      "Validation dataset full name da_en_it_vi_200000_lt_100_ut_700_ml_2_size_2000_inter_false_tsf_true_suffix_no_int_50_1000_en_it_200000_lt_50_ut_1000_ml_2_da_en_it_vi_200000_lt_100_ut_700_ml_2_size_2000_inter_false_casefolded\n",
      "Final validation dataset file already generated. Exists as:  da_en_it_vi_200000_lt_100_ut_700_ml_2_size_2000_inter_false_tsf_true_suffix_no_int_50_1000_en_it_200000_lt_50_ut_1000_ml_2_da_en_it_vi_200000_lt_100_ut_700_ml_2_size_2000_inter_false_casefolded\n",
      "Running get_test_concepts_from_validation_set\n",
      "Getting ranked concepts for  ['en', 'it']\n",
      "Generating doc embeddings for learned\n",
      "Reading embeddings\n",
      "197610 words in the intersection between training and evaluation in en\n",
      "199897 words in the intersection between training and evaluation in it\n",
      "Ranking with cosine\n",
      "Ranking with cosine\n",
      "Getting ranked concepts for  ['en', 'it']\n",
      "Generating doc embeddings for learned\n",
      "Reading embeddings\n",
      "197610 words in the intersection between training and evaluation in en\n",
      "199897 words in the intersection between training and evaluation in it\n",
      "Ranking with cosine\n",
      "Ranking with cosine\n",
      "Getting ranked concepts for  ['en', 'it']\n",
      "Generating doc embeddings for learned\n",
      "Reading embeddings\n",
      "197610 words in the intersection between training and evaluation in en\n",
      "199897 words in the intersection between training and evaluation in it\n",
      "Ranking with cosine\n",
      "Ranking with cosine\n",
      "Getting ranked concepts for  ['en', 'it']\n",
      "Generating doc embeddings for learned\n",
      "Reading embeddings\n",
      "197610 words in the intersection between training and evaluation in en\n",
      "199897 words in the intersection between training and evaluation in it\n",
      "Ranking with cosine\n",
      "Ranking with cosine\n",
      "Getting ranked concepts for  ['en', 'it']\n",
      "Generating doc embeddings for learned\n",
      "Reading embeddings\n",
      "197610 words in the intersection between training and evaluation in en\n",
      "199897 words in the intersection between training and evaluation in it\n",
      "Ranking with cosine\n",
      "Ranking with cosine\n"
     ]
    },
    {
     "data": {
      "image/png": "[encoded data removed]",
      "text/plain": [
       "<Figure size 1440x504 with 2 Axes>"
      ]
     },
     "metadata": {},
     "output_type": "display_data"
    }
   ],
   "source": [
    "params = {\n",
    "    \"lang_codes_to_evaluate\" : ['en', 'it'],\n",
    "    #\"lang_pairs_to_evaluate\" : [['en', 'da'], ['da', 'vi']],\n",
    "    \n",
    "    \"experiment_id\" : experiment_id,\n",
    "    \"vocabulary_size\" : 200000,\n",
    "    \n",
    "    #\"target_concepts_suffix\" : \"no_int_50_1000\",\n",
    "    \"target_concepts_suffixes\" : [\"no_int_50_1000\"],\n",
    "    \n",
    "    \"_dir\" : 'avg',\n",
    "    \"dimensions\" : 300,\n",
    "    \"validation_set_file_name\" : None\n",
    "    }\n",
    "\n",
    "utils.evaluate_experiment_diff_target_concepts(**params)"
   ]
  },
  {
   "cell_type": "markdown",
   "metadata": {},
   "source": [
    "## Execution time analysis"
   ]
  },
  {
   "cell_type": "code",
   "execution_count": 3,
   "metadata": {},
   "outputs": [
    {
     "data": {
      "image/png": "[encoded data removed]",
      "text/plain": [
       "<Figure size 504x360 with 1 Axes>"
      ]
     },
     "metadata": {},
     "output_type": "display_data"
    }
   ],
   "source": [
    "utils.plot_processing_time(experiment_id)"
   ]
  },
  {
   "cell_type": "markdown",
   "metadata": {},
   "source": [
    "# Best run results"
   ]
  },
  {
   "cell_type": "markdown",
   "metadata": {},
   "source": [
    "## Retireve experiment run using the experiment id and training parameters"
   ]
  },
  {
   "cell_type": "code",
   "execution_count": 6,
   "metadata": {},
   "outputs": [
    {
     "name": "stdout",
     "output_type": "stream",
     "text": [
      "('en_it_largest_range_200000_short_casefolded_5', ['en_it_largest_range_200000_short_casefolded_5 lambda 1.00 cg_tol 2.00 2.00 eigs_tol 1.00 1.00 dims 300'])\n",
      "Validation dataset file name - extended da_en_it_vi_200000_lt_100_ut_700_ml_2_size_2000_inter_false_tsf_true_suffix_no_int_50_1000\n",
      "Validation dataset full name da_en_it_vi_200000_lt_100_ut_700_ml_2_size_2000_inter_false_tsf_true_suffix_no_int_50_1000_en_it_200000_lt_50_ut_1000_ml_2_da_en_it_vi_200000_lt_100_ut_700_ml_2_size_2000_inter_false_casefolded\n",
      "Final validation dataset file already generated. Exists as:  da_en_it_vi_200000_lt_100_ut_700_ml_2_size_2000_inter_false_tsf_true_suffix_no_int_50_1000_en_it_200000_lt_50_ut_1000_ml_2_da_en_it_vi_200000_lt_100_ut_700_ml_2_size_2000_inter_false_casefolded\n",
      "Running get_test_concepts_from_validation_set\n"
     ]
    }
   ],
   "source": [
    "dimensions = 300\n",
    "_lambda = 1 # regularization_parameter\n",
    "cg_tol_1 = cg_tol_2 = 2 # 10 ** (-2)\n",
    "eigs_tol_1 = eigs_tol_2 = 1 # 10 ** (0.3)\n",
    "lang_codes_to_evaluate = ['en', 'it']\n",
    "\n",
    "# The log file, that logs all the runs for a given experiment is named same as the experiment\n",
    "# Finds the experiment id from the runs logger, and returns the matched line if return_line flag is set to true\n",
    "experiment_run_id = utils.get_run_identifier(experiment_id, dimensions, _lambda, cg_tol_1, eigs_tol_1, cg_tol_2, eigs_tol_2, return_line = True)\n",
    "print(experiment_run_id)\n",
    "experiment_run_id = experiment_run_id[0]\n",
    "eval_obj = evaluator.Evaluator(experiment_run_id, lang_codes_to_evaluate, vocabulary_size=65000, test_set_flag = True, target_concepts_suffix = \"no_int_50_1000\")"
   ]
  },
  {
   "cell_type": "markdown",
   "metadata": {},
   "source": [
    "## Important numbers"
   ]
  },
  {
   "cell_type": "code",
   "execution_count": 7,
   "metadata": {},
   "outputs": [
    {
     "name": "stdout",
     "output_type": "stream",
     "text": [
      "*** Training phase ***\n",
      "# Training documents: {'en': 484795, 'it': 483835}\n",
      "# Training sets vocabulary size: {'en': 200000, 'it': 200000}\n",
      "*** Evaluation phase ***\n",
      "# Queries: {'it_vi': 1000, 'da_it': 1000, 'en_vi': 1000, 'da_vi': 1000, 'da_en': 1000, 'en_it': 1000}\n",
      "# Target documents: {'en': 202852, 'it': 202363}\n",
      "# Evaluation datasets vocabulary size: {'en': 197610, 'it': 199897}\n"
     ]
    }
   ],
   "source": [
    "eval_obj.print_important_numbers()"
   ]
  },
  {
   "cell_type": "markdown",
   "metadata": {},
   "source": [
    "## Precisions"
   ]
  },
  {
   "cell_type": "code",
   "execution_count": 7,
   "metadata": {},
   "outputs": [
    {
     "name": "stdout",
     "output_type": "stream",
     "text": [
      "\n",
      "** Emb_type: learned, Metric: csls_knn_10 **\n",
      "\n",
      "Embeddings type:  learned\n",
      "Getting ranked concepts for  ['en', 'it']\n",
      "Generating doc embeddings for learned\n",
      "Reading embeddings\n",
      "197610 words in the intersection between training and evaluation in en\n",
      "199897 words in the intersection between training and evaluation in it\n",
      "Ranking with csls_knn_10\n",
      "Ranking with csls_knn_10\n"
     ]
    },
    {
     "data": {
      "text/html": [
       "<div>\n",
       "<style scoped>\n",
       "    .dataframe tbody tr th:only-of-type {\n",
       "        vertical-align: middle;\n",
       "    }\n",
       "\n",
       "    .dataframe tbody tr th {\n",
       "        vertical-align: top;\n",
       "    }\n",
       "\n",
       "    .dataframe thead th {\n",
       "        text-align: right;\n",
       "    }\n",
       "</style>\n",
       "<table border=\"1\" class=\"dataframe\">\n",
       "  <thead>\n",
       "    <tr style=\"text-align: right;\">\n",
       "      <th></th>\n",
       "      <th>P@1</th>\n",
       "      <th>P@5</th>\n",
       "      <th>P@10</th>\n",
       "    </tr>\n",
       "    <tr>\n",
       "      <th>pair</th>\n",
       "      <th></th>\n",
       "      <th></th>\n",
       "      <th></th>\n",
       "    </tr>\n",
       "  </thead>\n",
       "  <tbody>\n",
       "    <tr>\n",
       "      <th>en_it</th>\n",
       "      <td>71.90</td>\n",
       "      <td>85.80</td>\n",
       "      <td>90.30</td>\n",
       "    </tr>\n",
       "    <tr>\n",
       "      <th>it_en</th>\n",
       "      <td>79.00</td>\n",
       "      <td>90.20</td>\n",
       "      <td>91.90</td>\n",
       "    </tr>\n",
       "  </tbody>\n",
       "</table>\n",
       "</div>"
      ],
      "text/plain": [
       "        P@1   P@5  P@10\n",
       "pair                   \n",
       "en_it 71.90 85.80 90.30\n",
       "it_en 79.00 90.20 91.90"
      ]
     },
     "metadata": {},
     "output_type": "display_data"
    },
    {
     "name": "stdout",
     "output_type": "stream",
     "text": [
      "\n",
      "** Emb_type: learned, Metric: cosine **\n",
      "\n",
      "Embeddings type:  learned\n",
      "Getting ranked concepts for  ['en', 'it']\n",
      "Ranking with cosine\n",
      "Ranking with cosine\n"
     ]
    },
    {
     "data": {
      "text/html": [
       "<div>\n",
       "<style scoped>\n",
       "    .dataframe tbody tr th:only-of-type {\n",
       "        vertical-align: middle;\n",
       "    }\n",
       "\n",
       "    .dataframe tbody tr th {\n",
       "        vertical-align: top;\n",
       "    }\n",
       "\n",
       "    .dataframe thead th {\n",
       "        text-align: right;\n",
       "    }\n",
       "</style>\n",
       "<table border=\"1\" class=\"dataframe\">\n",
       "  <thead>\n",
       "    <tr style=\"text-align: right;\">\n",
       "      <th></th>\n",
       "      <th>P@1</th>\n",
       "      <th>P@5</th>\n",
       "      <th>P@10</th>\n",
       "    </tr>\n",
       "    <tr>\n",
       "      <th>pair</th>\n",
       "      <th></th>\n",
       "      <th></th>\n",
       "      <th></th>\n",
       "    </tr>\n",
       "  </thead>\n",
       "  <tbody>\n",
       "    <tr>\n",
       "      <th>en_it</th>\n",
       "      <td>74.60</td>\n",
       "      <td>86.40</td>\n",
       "      <td>88.90</td>\n",
       "    </tr>\n",
       "    <tr>\n",
       "      <th>it_en</th>\n",
       "      <td>80.00</td>\n",
       "      <td>89.80</td>\n",
       "      <td>91.50</td>\n",
       "    </tr>\n",
       "  </tbody>\n",
       "</table>\n",
       "</div>"
      ],
      "text/plain": [
       "        P@1   P@5  P@10\n",
       "pair                   \n",
       "en_it 74.60 86.40 88.90\n",
       "it_en 80.00 89.80 91.50"
      ]
     },
     "metadata": {},
     "output_type": "display_data"
    },
    {
     "name": "stdout",
     "output_type": "stream",
     "text": [
      "\n",
      "** Emb_type: baseline, Metric: csls_knn_10 **\n",
      "\n",
      "Embeddings type:  baseline\n",
      "Getting ranked concepts for  ['en', 'it']\n",
      "Generating doc embeddings for baseline\n",
      "Reading baseline embeddings\n",
      "153964 words in the intersection between training and evaluation in en\n",
      "167016 words in the intersection between training and evaluation in it\n",
      "Ranking with csls_knn_10\n",
      "Ranking with csls_knn_10\n"
     ]
    },
    {
     "data": {
      "text/html": [
       "<div>\n",
       "<style scoped>\n",
       "    .dataframe tbody tr th:only-of-type {\n",
       "        vertical-align: middle;\n",
       "    }\n",
       "\n",
       "    .dataframe tbody tr th {\n",
       "        vertical-align: top;\n",
       "    }\n",
       "\n",
       "    .dataframe thead th {\n",
       "        text-align: right;\n",
       "    }\n",
       "</style>\n",
       "<table border=\"1\" class=\"dataframe\">\n",
       "  <thead>\n",
       "    <tr style=\"text-align: right;\">\n",
       "      <th></th>\n",
       "      <th>P@1</th>\n",
       "      <th>P@5</th>\n",
       "      <th>P@10</th>\n",
       "    </tr>\n",
       "    <tr>\n",
       "      <th>pair</th>\n",
       "      <th></th>\n",
       "      <th></th>\n",
       "      <th></th>\n",
       "    </tr>\n",
       "  </thead>\n",
       "  <tbody>\n",
       "    <tr>\n",
       "      <th>en_it</th>\n",
       "      <td>40.00</td>\n",
       "      <td>56.70</td>\n",
       "      <td>63.20</td>\n",
       "    </tr>\n",
       "    <tr>\n",
       "      <th>it_en</th>\n",
       "      <td>48.60</td>\n",
       "      <td>62.70</td>\n",
       "      <td>68.40</td>\n",
       "    </tr>\n",
       "  </tbody>\n",
       "</table>\n",
       "</div>"
      ],
      "text/plain": [
       "        P@1   P@5  P@10\n",
       "pair                   \n",
       "en_it 40.00 56.70 63.20\n",
       "it_en 48.60 62.70 68.40"
      ]
     },
     "metadata": {},
     "output_type": "display_data"
    },
    {
     "name": "stdout",
     "output_type": "stream",
     "text": [
      "\n",
      "** Emb_type: baseline, Metric: cosine **\n",
      "\n",
      "Embeddings type:  baseline\n",
      "Getting ranked concepts for  ['en', 'it']\n",
      "Ranking with cosine\n",
      "Ranking with cosine\n"
     ]
    },
    {
     "data": {
      "text/html": [
       "<div>\n",
       "<style scoped>\n",
       "    .dataframe tbody tr th:only-of-type {\n",
       "        vertical-align: middle;\n",
       "    }\n",
       "\n",
       "    .dataframe tbody tr th {\n",
       "        vertical-align: top;\n",
       "    }\n",
       "\n",
       "    .dataframe thead th {\n",
       "        text-align: right;\n",
       "    }\n",
       "</style>\n",
       "<table border=\"1\" class=\"dataframe\">\n",
       "  <thead>\n",
       "    <tr style=\"text-align: right;\">\n",
       "      <th></th>\n",
       "      <th>P@1</th>\n",
       "      <th>P@5</th>\n",
       "      <th>P@10</th>\n",
       "    </tr>\n",
       "    <tr>\n",
       "      <th>pair</th>\n",
       "      <th></th>\n",
       "      <th></th>\n",
       "      <th></th>\n",
       "    </tr>\n",
       "  </thead>\n",
       "  <tbody>\n",
       "    <tr>\n",
       "      <th>en_it</th>\n",
       "      <td>32.90</td>\n",
       "      <td>48.90</td>\n",
       "      <td>55.40</td>\n",
       "    </tr>\n",
       "    <tr>\n",
       "      <th>it_en</th>\n",
       "      <td>38.30</td>\n",
       "      <td>52.20</td>\n",
       "      <td>58.90</td>\n",
       "    </tr>\n",
       "  </tbody>\n",
       "</table>\n",
       "</div>"
      ],
      "text/plain": [
       "        P@1   P@5  P@10\n",
       "pair                   \n",
       "en_it 32.90 48.90 55.40\n",
       "it_en 38.30 52.20 58.90"
      ]
     },
     "metadata": {},
     "output_type": "display_data"
    }
   ],
   "source": [
    "dfs = {}\n",
    "for emb_type in ['learned', 'baseline']:\n",
    "    for metric in ['csls_knn_10', 'cosine']:\n",
    "        print()\n",
    "        s = '** Emb_type: {}, Metric: {} **'.format(emb_type, metric)\n",
    "        print(s)\n",
    "        print()\n",
    "        df = eval_obj.get_overall_precision(emb_type=emb_type, metric=metric)\n",
    "        dfs[s] = df\n",
    "        display(df)"
   ]
  }
 ],
 "metadata": {
  "kernelspec": {
   "display_name": "Python 3",
   "language": "python",
   "name": "python3"
  },
  "language_info": {
   "codemirror_mode": {
    "name": "ipython",
    "version": 3
   },
   "file_extension": ".py",
   "mimetype": "text/x-python",
   "name": "python",
   "nbconvert_exporter": "python",
   "pygments_lexer": "ipython3",
   "version": "3.6.8"
  }
 },
 "nbformat": 4,
 "nbformat_minor": 2
}
